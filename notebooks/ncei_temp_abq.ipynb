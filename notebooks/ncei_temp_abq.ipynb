{
 "cells": [
  {
   "cell_type": "code",
   "execution_count": 1,
   "metadata": {},
   "outputs": [
    {
     "ename": "SyntaxError",
     "evalue": "invalid syntax (3738362938.py, line 39)",
     "output_type": "error",
     "traceback": [
      "\u001b[0;36m  Cell \u001b[0;32mIn[1], line 39\u001b[0;36m\u001b[0m\n\u001b[0;31m    jupyter nbconvert ncei_temp_abq.ipynb --to html --no-input\u001b[0m\n\u001b[0m            ^\u001b[0m\n\u001b[0;31mSyntaxError\u001b[0m\u001b[0;31m:\u001b[0m invalid syntax\n"
     ]
    }
   ],
   "source": [
    "# Import libraries for tabular data and plotting\n",
    "import hvplot.pandas\n",
    "import pandas as pd\n",
    "import holoviews as hv\n",
    "import warnings\n",
    "\n",
    "warnings.filterwarnings('ignore')\n",
    "\n",
    "# Define URL for Los Angeles mean Temp data download\n",
    "abq_temp_url = (\n",
    "    'https://www.ncei.noaa.gov/access/monitoring/climate-at-a-glance/city/'\n",
    "    'time-series/USW00023050/tavg/12/8/1930-2023.csv?base_prd=true&begbase'\n",
    "    'year=1991&endbaseyear=2020')\n",
    "abq_temp_url\n",
    "\n",
    "# Import ABQ temperature values from NCEI\n",
    "abq_temp_df = pd.read_csv(\n",
    "    abq_temp_url, header=4, names=['year', 'temperature_f', 'Anomaly'])\n",
    "\n",
    "# Extract the year from the date\n",
    "abq_temp_df.year = pd.to_datetime(abq_temp_df.year, format='%Y%m').dt.year\n",
    "\n",
    "# Compute Celsius temperatures\n",
    "# abq_temp_df['temperature_c'] = (abq_temp_df['temperature_f'] - 32) * 5 / 9\n",
    "\n",
    "\n",
    "# Plot the ABQ Mean Temp Data over time\n",
    "regr_plot = abq_temp_df.hvplot(\n",
    "    x='year', y='temperature_f',\n",
    "    title = 'Mean Annual Temperature in Albuquerque, NM, USA',\n",
    "    xlabel='Year', ylabel='Temperature (°F)',\n",
    "    )\n",
    "\n",
    "slope = hv.Slope.from_scatter(regr_plot)\n",
    "regr_plot.opts(line_width=2) * slope.opts(color='red', line_width=4)\n",
    "\n",
    "%%capture\n",
    "%%bash\n",
    "jupyter nbconvert ncei_temp_abq.ipynb --to html --no-input\n",
    "\n"
   ]
  }
 ],
 "metadata": {
  "kernelspec": {
   "display_name": "base",
   "language": "python",
   "name": "python3"
  },
  "language_info": {
   "codemirror_mode": {
    "name": "ipython",
    "version": 3
   },
   "file_extension": ".py",
   "mimetype": "text/x-python",
   "name": "python",
   "nbconvert_exporter": "python",
   "pygments_lexer": "ipython3",
   "version": "3.1.0"
  },
  "orig_nbformat": 4
 },
 "nbformat": 4,
 "nbformat_minor": 2
}
